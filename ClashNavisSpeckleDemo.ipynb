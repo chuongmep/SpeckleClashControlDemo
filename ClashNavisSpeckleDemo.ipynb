{
 "cells": [
  {
   "cell_type": "code",
   "execution_count": 122,
   "metadata": {},
   "outputs": [
    {
     "name": "stdout",
     "output_type": "stream",
     "text": [
      "Requirement already satisfied: specklepy in c:\\users\\chuong.ho\\appdata\\local\\programs\\python\\python39\\lib\\site-packages (2.11.4)\n",
      "Requirement already satisfied: gql[requests,websockets]<4.0.0,>=3.3.0 in c:\\users\\chuong.ho\\appdata\\local\\programs\\python\\python39\\lib\\site-packages (from specklepy) (3.3.0)\n",
      "Requirement already satisfied: pydantic<2.0,>=1.9 in c:\\users\\chuong.ho\\appdata\\local\\programs\\python\\python39\\lib\\site-packages (from specklepy) (1.9.1)\n",
      "Requirement already satisfied: Deprecated<2.0.0,>=1.2.13 in c:\\users\\chuong.ho\\appdata\\local\\programs\\python\\python39\\lib\\site-packages (from specklepy) (1.2.13)\n",
      "Requirement already satisfied: appdirs<2.0.0,>=1.4.4 in c:\\users\\chuong.ho\\appdata\\local\\programs\\python\\python39\\lib\\site-packages (from specklepy) (1.4.4)\n",
      "Requirement already satisfied: stringcase<2.0.0,>=1.2.0 in c:\\users\\chuong.ho\\appdata\\local\\programs\\python\\python39\\lib\\site-packages (from specklepy) (1.2.0)\n",
      "Requirement already satisfied: ujson<6.0.0,>=5.3.0 in c:\\users\\chuong.ho\\appdata\\local\\programs\\python\\python39\\lib\\site-packages (from specklepy) (5.3.0)\n",
      "Requirement already satisfied: wrapt<2,>=1.10 in c:\\users\\chuong.ho\\appdata\\local\\programs\\python\\python39\\lib\\site-packages (from Deprecated<2.0.0,>=1.2.13->specklepy) (1.13.3)\n",
      "Requirement already satisfied: yarl<2.0,>=1.6 in c:\\users\\chuong.ho\\appdata\\local\\programs\\python\\python39\\lib\\site-packages (from gql[requests,websockets]<4.0.0,>=3.3.0->specklepy) (1.7.2)\n",
      "Requirement already satisfied: graphql-core<3.3,>=3.2 in c:\\users\\chuong.ho\\appdata\\local\\programs\\python\\python39\\lib\\site-packages (from gql[requests,websockets]<4.0.0,>=3.3.0->specklepy) (3.2.1)\n",
      "Requirement already satisfied: websockets<11,>=10 in c:\\users\\chuong.ho\\appdata\\local\\programs\\python\\python39\\lib\\site-packages (from gql[requests,websockets]<4.0.0,>=3.3.0->specklepy) (10.3)\n",
      "Requirement already satisfied: urllib3>=1.26 in c:\\users\\chuong.ho\\appdata\\local\\programs\\python\\python39\\lib\\site-packages (from gql[requests,websockets]<4.0.0,>=3.3.0->specklepy) (1.26.8)\n",
      "Requirement already satisfied: requests<3,>=2.26 in c:\\users\\chuong.ho\\appdata\\local\\programs\\python\\python39\\lib\\site-packages (from gql[requests,websockets]<4.0.0,>=3.3.0->specklepy) (2.27.1)\n",
      "Requirement already satisfied: requests-toolbelt<1,>=0.9.1 in c:\\users\\chuong.ho\\appdata\\local\\programs\\python\\python39\\lib\\site-packages (from gql[requests,websockets]<4.0.0,>=3.3.0->specklepy) (0.9.1)\n",
      "Requirement already satisfied: typing-extensions>=3.7.4.3 in c:\\users\\chuong.ho\\appdata\\roaming\\python\\python39\\site-packages (from pydantic<2.0,>=1.9->specklepy) (4.1.1)\n",
      "Requirement already satisfied: idna<4,>=2.5 in c:\\users\\chuong.ho\\appdata\\local\\programs\\python\\python39\\lib\\site-packages (from requests<3,>=2.26->gql[requests,websockets]<4.0.0,>=3.3.0->specklepy) (3.3)\n",
      "Requirement already satisfied: charset-normalizer~=2.0.0 in c:\\users\\chuong.ho\\appdata\\local\\programs\\python\\python39\\lib\\site-packages (from requests<3,>=2.26->gql[requests,websockets]<4.0.0,>=3.3.0->specklepy) (2.0.12)\n",
      "Requirement already satisfied: certifi>=2017.4.17 in c:\\users\\chuong.ho\\appdata\\local\\programs\\python\\python39\\lib\\site-packages (from requests<3,>=2.26->gql[requests,websockets]<4.0.0,>=3.3.0->specklepy) (2021.10.8)\n",
      "Requirement already satisfied: multidict>=4.0 in c:\\users\\chuong.ho\\appdata\\local\\programs\\python\\python39\\lib\\site-packages (from yarl<2.0,>=1.6->gql[requests,websockets]<4.0.0,>=3.3.0->specklepy) (6.0.2)\n"
     ]
    }
   ],
   "source": [
    "!pip install specklepy --upgrade"
   ]
  },
  {
   "cell_type": "code",
   "execution_count": 123,
   "metadata": {},
   "outputs": [],
   "source": [
    "from specklepy.api.client import SpeckleClient\n",
    "from specklepy.api.credentials import get_default_account\n",
    "host = \"https://speckle.xyz/\"\n",
    "client = SpeckleClient(host=host)\n",
    "# replace with your token\n",
    "token = \"2c502e6c05d55ed80942583c6fa6775f96db91ee1e\"\n",
    "client.authenticate_with_token(token=token)"
   ]
  },
  {
   "cell_type": "code",
   "execution_count": 124,
   "metadata": {},
   "outputs": [
    {
     "data": {
      "text/plain": [
       "ServerTransport(url='https://speckle.xyz', stream_id='14568be237', account=Account(email: chuongpqvn@gmail.com, server: https://speckle.xyz, isDefault: True), saved_obj_count=0, session=<requests.sessions.Session object at 0x00000227E7CEC7C0>, _batch_sender=<specklepy.transports.server.batch_sender.BatchSender object at 0x00000227E7CECBE0>)"
      ]
     },
     "execution_count": 124,
     "metadata": {},
     "output_type": "execute_result"
    }
   ],
   "source": [
    "from specklepy.transports.server import ServerTransport\n",
    "# replace with your stream id\n",
    "streamId = \"14568be237\"\n",
    "stream = client.stream.get(id=streamId)\n",
    "\n",
    "transport = ServerTransport(client=client, stream_id=streamId)\n",
    "transport"
   ]
  },
  {
   "cell_type": "code",
   "execution_count": 125,
   "metadata": {},
   "outputs": [
    {
     "name": "stdout",
     "output_type": "stream",
     "text": [
      "Commit( id: 92afa8cd3f, message: Send 6 clashes test from Navisworks, referencedObject: afc8470062c5fa4fe96aa8bba1049797, authorName: Hồ Văn Chương, branchName: main, createdAt: 2023-01-19 03:55:16.067000+00:00 )\n"
     ]
    },
    {
     "data": {
      "text/plain": [
       "Base(id: afc8470062c5fa4fe96aa8bba1049797, speckle_type: Base, totalChildrenCount: 0)"
      ]
     },
     "execution_count": 125,
     "metadata": {},
     "output_type": "execute_result"
    }
   ],
   "source": [
    "from specklepy.api import operations\n",
    "commit = client.commit.list(stream_id=streamId)[0]\n",
    "print(commit)\n",
    "received_base = operations.receive(commit.referencedObject, remote_transport=transport)\n",
    "received_base"
   ]
  },
  {
   "cell_type": "code",
   "execution_count": 126,
   "metadata": {},
   "outputs": [
    {
     "data": {
      "text/plain": [
       "[Base(id: 0cb02822a70ad66b61b8a784c9d845b1, speckle_type: ClashModel.ClashTest, totalChildrenCount: 0),\n",
       " Base(id: d2eed40c3a5bc712c46059ee7e7ac83d, speckle_type: ClashModel.ClashTest, totalChildrenCount: 0),\n",
       " Base(id: 4f311331c7614b6d97a435cf90d67b9a, speckle_type: ClashModel.ClashTest, totalChildrenCount: 0),\n",
       " Base(id: 722148628d8c266b7c424923fcc79948, speckle_type: ClashModel.ClashTest, totalChildrenCount: 0),\n",
       " Base(id: 7434242d668d3a8749cb8f4645bd71da, speckle_type: ClashModel.ClashTest, totalChildrenCount: 0),\n",
       " Base(id: 9b27bf88496faa8877e482b2680891af, speckle_type: ClashModel.ClashTest, totalChildrenCount: 0)]"
      ]
     },
     "execution_count": 126,
     "metadata": {},
     "output_type": "execute_result"
    }
   ],
   "source": [
    "clashtests = received_base[\"ClashTests\"]\n",
    "clashtests"
   ]
  },
  {
   "cell_type": "code",
   "execution_count": 127,
   "metadata": {},
   "outputs": [
    {
     "data": {
      "text/html": [
       "<div>\n",
       "<style scoped>\n",
       "    .dataframe tbody tr th:only-of-type {\n",
       "        vertical-align: middle;\n",
       "    }\n",
       "\n",
       "    .dataframe tbody tr th {\n",
       "        vertical-align: top;\n",
       "    }\n",
       "\n",
       "    .dataframe thead th {\n",
       "        text-align: right;\n",
       "    }\n",
       "</style>\n",
       "<table border=\"1\" class=\"dataframe\">\n",
       "  <thead>\n",
       "    <tr style=\"text-align: right;\">\n",
       "      <th></th>\n",
       "      <th>Name</th>\n",
       "      <th>Count</th>\n",
       "      <th>Guid</th>\n",
       "      <th>LastRun</th>\n",
       "    </tr>\n",
       "  </thead>\n",
       "  <tbody>\n",
       "    <tr>\n",
       "      <th>0</th>\n",
       "      <td>Test 1</td>\n",
       "      <td>2051</td>\n",
       "      <td>fdbb31e2-3d0a-4f23-90db-2dd763fde42a</td>\n",
       "      <td>2023-01-16T18:05:58.0000000Z</td>\n",
       "    </tr>\n",
       "    <tr>\n",
       "      <th>1</th>\n",
       "      <td>Test 2</td>\n",
       "      <td>593</td>\n",
       "      <td>2e36a211-c724-498c-b73b-6417c93025f5</td>\n",
       "      <td>2023-01-18T11:33:53.0000000Z</td>\n",
       "    </tr>\n",
       "    <tr>\n",
       "      <th>2</th>\n",
       "      <td>Test 3</td>\n",
       "      <td>764</td>\n",
       "      <td>3ac4763b-71aa-49ab-bbe7-398d98274c06</td>\n",
       "      <td>2023-01-18T11:34:46.0000000Z</td>\n",
       "    </tr>\n",
       "    <tr>\n",
       "      <th>3</th>\n",
       "      <td>Test 4</td>\n",
       "      <td>86</td>\n",
       "      <td>d4b0bbd9-1236-4254-a9a1-085e4d45c876</td>\n",
       "      <td>2023-01-18T11:34:05.0000000Z</td>\n",
       "    </tr>\n",
       "    <tr>\n",
       "      <th>4</th>\n",
       "      <td>Test 5</td>\n",
       "      <td>597</td>\n",
       "      <td>687c7032-6894-49b5-9dc2-9cbc282d82d5</td>\n",
       "      <td>2023-01-18T11:34:13.0000000Z</td>\n",
       "    </tr>\n",
       "    <tr>\n",
       "      <th>5</th>\n",
       "      <td>Test 6</td>\n",
       "      <td>820</td>\n",
       "      <td>f7a7df71-1f85-4414-9489-8ba81125d385</td>\n",
       "      <td>2023-01-18T11:34:59.0000000Z</td>\n",
       "    </tr>\n",
       "  </tbody>\n",
       "</table>\n",
       "</div>"
      ],
      "text/plain": [
       "     Name  Count                                  Guid  \\\n",
       "0  Test 1   2051  fdbb31e2-3d0a-4f23-90db-2dd763fde42a   \n",
       "1  Test 2    593  2e36a211-c724-498c-b73b-6417c93025f5   \n",
       "2  Test 3    764  3ac4763b-71aa-49ab-bbe7-398d98274c06   \n",
       "3  Test 4     86  d4b0bbd9-1236-4254-a9a1-085e4d45c876   \n",
       "4  Test 5    597  687c7032-6894-49b5-9dc2-9cbc282d82d5   \n",
       "5  Test 6    820  f7a7df71-1f85-4414-9489-8ba81125d385   \n",
       "\n",
       "                        LastRun  \n",
       "0  2023-01-16T18:05:58.0000000Z  \n",
       "1  2023-01-18T11:33:53.0000000Z  \n",
       "2  2023-01-18T11:34:46.0000000Z  \n",
       "3  2023-01-18T11:34:05.0000000Z  \n",
       "4  2023-01-18T11:34:13.0000000Z  \n",
       "5  2023-01-18T11:34:59.0000000Z  "
      ]
     },
     "execution_count": 127,
     "metadata": {},
     "output_type": "execute_result"
    }
   ],
   "source": [
    "import pandas as pd\n",
    "tests = []\n",
    "for i in range(len(clashtests)):\n",
    "    test = {}\n",
    "    test[\"Name\"] = clashtests[i].Name\n",
    "    test[\"Count\"] = clashtests[i].ClashCount\n",
    "    test[\"Guid\"] = clashtests[i].Guid\n",
    "    test[\"LastRun\"] = clashtests[i].LastRun\n",
    "    tests.append(test)   \n",
    "dfClashTests =  pd.DataFrame(tests).sort_values(by = \"Name\", ascending = True)\n",
    "dfClashTests"
   ]
  },
  {
   "cell_type": "code",
   "execution_count": 128,
   "metadata": {},
   "outputs": [
    {
     "data": {
      "image/png": "[encoded data removed]",
      "text/plain": [
       "<Figure size 720x360 with 1 Axes>"
      ]
     },
     "metadata": {},
     "output_type": "display_data"
    }
   ],
   "source": [
    "# plot dfClashTests\n",
    "import matplotlib.pyplot as plt\n",
    "import numpy as np\n",
    "import seaborn as sns\n",
    "sns.set(style=\"whitegrid\")\n",
    "plt.figure(figsize=(10, 5))\n",
    "ax = sns.barplot(x=\"Name\", y=\"Count\", data=dfClashTests)\n",
    "ax.set_xticklabels(ax.get_xticklabels(), rotation=40, ha=\"right\")\n",
    "plt.tight_layout()\n",
    "plt.show()"
   ]
  },
  {
   "cell_type": "code",
   "execution_count": 129,
   "metadata": {},
   "outputs": [
    {
     "data": {
      "text/html": [
       "<div>\n",
       "<style scoped>\n",
       "    .dataframe tbody tr th:only-of-type {\n",
       "        vertical-align: middle;\n",
       "    }\n",
       "\n",
       "    .dataframe tbody tr th {\n",
       "        vertical-align: top;\n",
       "    }\n",
       "\n",
       "    .dataframe thead th {\n",
       "        text-align: right;\n",
       "    }\n",
       "</style>\n",
       "<table border=\"1\" class=\"dataframe\">\n",
       "  <thead>\n",
       "    <tr style=\"text-align: right;\">\n",
       "      <th></th>\n",
       "      <th>Name</th>\n",
       "      <th>Guid</th>\n",
       "      <th>Level</th>\n",
       "      <th>Status</th>\n",
       "      <th>Distance</th>\n",
       "      <th>GridIntersect</th>\n",
       "    </tr>\n",
       "  </thead>\n",
       "  <tbody>\n",
       "    <tr>\n",
       "      <th>0</th>\n",
       "      <td>Clash1</td>\n",
       "      <td>74060d31-b6d7-4625-a229-ae49c79a77a3</td>\n",
       "      <td>Ceiling</td>\n",
       "      <td>New</td>\n",
       "      <td>-1.476378</td>\n",
       "      <td>B(-1)-7(-1)</td>\n",
       "    </tr>\n",
       "    <tr>\n",
       "      <th>3408</th>\n",
       "      <td>Clash1</td>\n",
       "      <td>26617bf5-9142-4848-bb8b-b08baf4e8bc9</td>\n",
       "      <td></td>\n",
       "      <td>New</td>\n",
       "      <td>-0.196851</td>\n",
       "      <td></td>\n",
       "    </tr>\n",
       "    <tr>\n",
       "      <th>2051</th>\n",
       "      <td>Clash1</td>\n",
       "      <td>1dea3642-9e25-480d-89c5-a8fcd69c9eaf</td>\n",
       "      <td></td>\n",
       "      <td>New</td>\n",
       "      <td>-1.153989</td>\n",
       "      <td></td>\n",
       "    </tr>\n",
       "    <tr>\n",
       "      <th>4314</th>\n",
       "      <td>Clash1</td>\n",
       "      <td>64fc8bfd-4cb7-4468-be8f-82c5d7cfb66a</td>\n",
       "      <td></td>\n",
       "      <td>Active</td>\n",
       "      <td>-1.153989</td>\n",
       "      <td></td>\n",
       "    </tr>\n",
       "    <tr>\n",
       "      <th>3494</th>\n",
       "      <td>Clash1</td>\n",
       "      <td>d49e4ce7-7cbd-42d5-82cf-b91a6a2ae29a</td>\n",
       "      <td></td>\n",
       "      <td>New</td>\n",
       "      <td>-1.153989</td>\n",
       "      <td></td>\n",
       "    </tr>\n",
       "    <tr>\n",
       "      <th>3405</th>\n",
       "      <td>Clash1</td>\n",
       "      <td>55280d2d-2c79-44d7-9703-089d7d7f9668</td>\n",
       "      <td>Level 1</td>\n",
       "      <td>Active</td>\n",
       "      <td>0.000000</td>\n",
       "      <td>A(6)-6</td>\n",
       "    </tr>\n",
       "    <tr>\n",
       "      <th>3503</th>\n",
       "      <td>Clash10</td>\n",
       "      <td>3bbe4f76-b781-430b-8287-4b477116ad04</td>\n",
       "      <td>Level 1</td>\n",
       "      <td>Approved</td>\n",
       "      <td>-0.164044</td>\n",
       "      <td>F-6</td>\n",
       "    </tr>\n",
       "    <tr>\n",
       "      <th>9</th>\n",
       "      <td>Clash10</td>\n",
       "      <td>08500953-aec7-4aa0-a9dd-3b19bc731ea9</td>\n",
       "      <td></td>\n",
       "      <td>New</td>\n",
       "      <td>-0.984252</td>\n",
       "      <td></td>\n",
       "    </tr>\n",
       "    <tr>\n",
       "      <th>2650</th>\n",
       "      <td>Clash10</td>\n",
       "      <td>185c3240-c530-48ae-92b4-a0e9a333e84f</td>\n",
       "      <td>Level 1</td>\n",
       "      <td>Reviewed</td>\n",
       "      <td>-0.295276</td>\n",
       "      <td>E-7(-1)</td>\n",
       "    </tr>\n",
       "    <tr>\n",
       "      <th>3417</th>\n",
       "      <td>Clash10</td>\n",
       "      <td>4379022d-e887-4fca-9075-899199a55250</td>\n",
       "      <td></td>\n",
       "      <td>New</td>\n",
       "      <td>-0.032569</td>\n",
       "      <td></td>\n",
       "    </tr>\n",
       "  </tbody>\n",
       "</table>\n",
       "</div>"
      ],
      "text/plain": [
       "         Name                                  Guid    Level    Status  \\\n",
       "0      Clash1  74060d31-b6d7-4625-a229-ae49c79a77a3  Ceiling       New   \n",
       "3408   Clash1  26617bf5-9142-4848-bb8b-b08baf4e8bc9                New   \n",
       "2051   Clash1  1dea3642-9e25-480d-89c5-a8fcd69c9eaf                New   \n",
       "4314   Clash1  64fc8bfd-4cb7-4468-be8f-82c5d7cfb66a             Active   \n",
       "3494   Clash1  d49e4ce7-7cbd-42d5-82cf-b91a6a2ae29a                New   \n",
       "3405   Clash1  55280d2d-2c79-44d7-9703-089d7d7f9668  Level 1    Active   \n",
       "3503  Clash10  3bbe4f76-b781-430b-8287-4b477116ad04  Level 1  Approved   \n",
       "9     Clash10  08500953-aec7-4aa0-a9dd-3b19bc731ea9                New   \n",
       "2650  Clash10  185c3240-c530-48ae-92b4-a0e9a333e84f  Level 1  Reviewed   \n",
       "3417  Clash10  4379022d-e887-4fca-9075-899199a55250                New   \n",
       "\n",
       "      Distance GridIntersect  \n",
       "0    -1.476378   B(-1)-7(-1)  \n",
       "3408 -0.196851                \n",
       "2051 -1.153989                \n",
       "4314 -1.153989                \n",
       "3494 -1.153989                \n",
       "3405  0.000000        A(6)-6  \n",
       "3503 -0.164044           F-6  \n",
       "9    -0.984252                \n",
       "2650 -0.295276       E-7(-1)  \n",
       "3417 -0.032569                "
      ]
     },
     "execution_count": 129,
     "metadata": {},
     "output_type": "execute_result"
    }
   ],
   "source": [
    "import pandas as pd\n",
    "clashs = []\n",
    "for i in range(len(clashtests)):\n",
    "    clashsData = clashtests[i].Clashes\n",
    "    for j in range(len(clashsData)):\n",
    "        clashsdic = {}\n",
    "        clashsdic[\"Name\"] = clashsData[j].Name\n",
    "        clashsdic[\"Guid\"] = clashsData[j].Guid\n",
    "        clashsdic[\"Level\"] = clashsData[j].Level\n",
    "        clashsdic[\"Status\"] = clashsData[j].Status\n",
    "        clashsdic[\"Distance\"] = clashsData[j].Distance\n",
    "        clashsdic[\"GridIntersect\"] = clashsData[j].GridIntersect\n",
    "        clashs.append(clashsdic)\n",
    "dfClashes = pd.DataFrame(clashs).sort_values(by = \"Name\", ascending = True)\n",
    "dfClashes.head(10)"
   ]
  },
  {
   "cell_type": "code",
   "execution_count": 130,
   "metadata": {},
   "outputs": [
    {
     "data": {
      "text/plain": [
       "Level      Name      Guid                                  Status  Distance       GridIntersect\n",
       "           Clash1    1dea3642-9e25-480d-89c5-a8fcd69c9eaf  New     -1.153989e+00                   1\n",
       "                     26617bf5-9142-4848-bb8b-b08baf4e8bc9  New     -1.968513e-01                   1\n",
       "           Clash413  5a74b840-b9bc-4ed9-a51d-a920e8c40c03  New     -1.421085e-14                   1\n",
       "           Clash415  8775a4cf-29e7-4523-aca0-9762da194dd2  New     -3.879777e-08                   1\n",
       "                     08a4b7b3-0b5d-4564-b124-e68751b16bca  New     -1.421085e-14                   1\n",
       "                                                                                                  ..\n",
       "Roof Line  Clash465  5dc4e13d-7954-408c-b5f9-43b2a708d0a0  New     -8.366394e-02  B-6              1\n",
       "           Clash358  1a432881-ec3f-491d-9764-145300b322c3  New     -1.407305e-01  B-2              1\n",
       "           Clash349  71f58bd7-7a6a-4680-8acd-2bd7cde6f5bf  New     -1.497990e-01  B-6              1\n",
       "           Clash348  55bdf0ca-694a-4649-bcb6-9b5e74d9338d  New     -1.607582e-01  B-7              1\n",
       "           Clash999  5675ec70-6ae6-4236-9d26-8c5c36622ecb  New     -2.873236e-07  B-1              1\n",
       "Length: 4911, dtype: int64"
      ]
     },
     "execution_count": 130,
     "metadata": {},
     "output_type": "execute_result"
    }
   ],
   "source": [
    "# group dfClashes by Level \n",
    "dfClashes.groupby(\"Level\").value_counts()"
   ]
  },
  {
   "cell_type": "code",
   "execution_count": 131,
   "metadata": {},
   "outputs": [
    {
     "data": {
      "text/plain": [
       "               1375\n",
       "C-5             289\n",
       "B-2             151\n",
       "C-6             129\n",
       "B-5             123\n",
       "               ... \n",
       "E(1)-7(-1)        1\n",
       "C(-1)-7(-1)       1\n",
       "D(-1)-7(-1)       1\n",
       "A(3)-6            1\n",
       "A-1(-1)           1\n",
       "Name: GridIntersect, Length: 153, dtype: int64"
      ]
     },
     "execution_count": 131,
     "metadata": {},
     "output_type": "execute_result"
    }
   ],
   "source": [
    "# series of grid intersect \n",
    "dfClashes[\"GridIntersect\"].value_counts()\n"
   ]
  },
  {
   "cell_type": "code",
   "execution_count": 132,
   "metadata": {},
   "outputs": [
    {
     "data": {
      "text/plain": [
       "Level 1      3049\n",
       "             1375\n",
       "Ceiling       358\n",
       "Roof Line      77\n",
       "Level 2        52\n",
       "Name: Level, dtype: int64"
      ]
     },
     "execution_count": 132,
     "metadata": {},
     "output_type": "execute_result"
    }
   ],
   "source": [
    "# series of grid intersect \n",
    "dfClashes[\"Level\"].value_counts()"
   ]
  },
  {
   "cell_type": "code",
   "execution_count": 133,
   "metadata": {},
   "outputs": [
    {
     "name": "stdout",
     "output_type": "stream",
     "text": [
      "Count Clash Level 1:  3049\n"
     ]
    },
    {
     "data": {
      "text/html": [
       "<div>\n",
       "<style scoped>\n",
       "    .dataframe tbody tr th:only-of-type {\n",
       "        vertical-align: middle;\n",
       "    }\n",
       "\n",
       "    .dataframe tbody tr th {\n",
       "        vertical-align: top;\n",
       "    }\n",
       "\n",
       "    .dataframe thead th {\n",
       "        text-align: right;\n",
       "    }\n",
       "</style>\n",
       "<table border=\"1\" class=\"dataframe\">\n",
       "  <thead>\n",
       "    <tr style=\"text-align: right;\">\n",
       "      <th></th>\n",
       "      <th>Name</th>\n",
       "      <th>Guid</th>\n",
       "      <th>Level</th>\n",
       "      <th>Status</th>\n",
       "      <th>Distance</th>\n",
       "      <th>GridIntersect</th>\n",
       "    </tr>\n",
       "  </thead>\n",
       "  <tbody>\n",
       "    <tr>\n",
       "      <th>3405</th>\n",
       "      <td>Clash1</td>\n",
       "      <td>55280d2d-2c79-44d7-9703-089d7d7f9668</td>\n",
       "      <td>Level 1</td>\n",
       "      <td>Active</td>\n",
       "      <td>0.000000</td>\n",
       "      <td>A(6)-6</td>\n",
       "    </tr>\n",
       "    <tr>\n",
       "      <th>3503</th>\n",
       "      <td>Clash10</td>\n",
       "      <td>3bbe4f76-b781-430b-8287-4b477116ad04</td>\n",
       "      <td>Level 1</td>\n",
       "      <td>Approved</td>\n",
       "      <td>-0.164044</td>\n",
       "      <td>F-6</td>\n",
       "    </tr>\n",
       "    <tr>\n",
       "      <th>2650</th>\n",
       "      <td>Clash10</td>\n",
       "      <td>185c3240-c530-48ae-92b4-a0e9a333e84f</td>\n",
       "      <td>Level 1</td>\n",
       "      <td>Reviewed</td>\n",
       "      <td>-0.295276</td>\n",
       "      <td>E-7(-1)</td>\n",
       "    </tr>\n",
       "    <tr>\n",
       "      <th>2060</th>\n",
       "      <td>Clash10</td>\n",
       "      <td>82985c26-ae8a-42b6-93c2-0de75d71eb90</td>\n",
       "      <td>Level 1</td>\n",
       "      <td>Resolved</td>\n",
       "      <td>-0.164044</td>\n",
       "      <td>F-6</td>\n",
       "    </tr>\n",
       "    <tr>\n",
       "      <th>4319</th>\n",
       "      <td>Clash10</td>\n",
       "      <td>185a6bdc-6aac-4c67-9fb5-3ecc66d7ce95</td>\n",
       "      <td>Level 1</td>\n",
       "      <td>Active</td>\n",
       "      <td>-0.255905</td>\n",
       "      <td>C-7</td>\n",
       "    </tr>\n",
       "    <tr>\n",
       "      <th>3593</th>\n",
       "      <td>Clash100</td>\n",
       "      <td>44c7867a-8975-4ee7-9543-a8215af957ea</td>\n",
       "      <td>Level 1</td>\n",
       "      <td>New</td>\n",
       "      <td>-0.009728</td>\n",
       "      <td>B-4(-1)</td>\n",
       "    </tr>\n",
       "    <tr>\n",
       "      <th>2150</th>\n",
       "      <td>Clash100</td>\n",
       "      <td>b58377a8-73a7-4617-b5e8-f540144f90b6</td>\n",
       "      <td>Level 1</td>\n",
       "      <td>New</td>\n",
       "      <td>-0.009728</td>\n",
       "      <td>B-4(-1)</td>\n",
       "    </tr>\n",
       "    <tr>\n",
       "      <th>2151</th>\n",
       "      <td>Clash101</td>\n",
       "      <td>27a21946-27b8-4e89-8aa5-1970c793f72b</td>\n",
       "      <td>Level 1</td>\n",
       "      <td>New</td>\n",
       "      <td>-0.009728</td>\n",
       "      <td>B-3</td>\n",
       "    </tr>\n",
       "    <tr>\n",
       "      <th>3594</th>\n",
       "      <td>Clash101</td>\n",
       "      <td>ec196899-fb0d-490c-b8f4-1a0295bd9d40</td>\n",
       "      <td>Level 1</td>\n",
       "      <td>New</td>\n",
       "      <td>-0.009728</td>\n",
       "      <td>B-3</td>\n",
       "    </tr>\n",
       "    <tr>\n",
       "      <th>2741</th>\n",
       "      <td>Clash101</td>\n",
       "      <td>1778fe7d-d5b6-42ef-a436-cd4abc052ff4</td>\n",
       "      <td>Level 1</td>\n",
       "      <td>New</td>\n",
       "      <td>-0.038398</td>\n",
       "      <td>G-7(-1)</td>\n",
       "    </tr>\n",
       "  </tbody>\n",
       "</table>\n",
       "</div>"
      ],
      "text/plain": [
       "          Name                                  Guid    Level    Status  \\\n",
       "3405    Clash1  55280d2d-2c79-44d7-9703-089d7d7f9668  Level 1    Active   \n",
       "3503   Clash10  3bbe4f76-b781-430b-8287-4b477116ad04  Level 1  Approved   \n",
       "2650   Clash10  185c3240-c530-48ae-92b4-a0e9a333e84f  Level 1  Reviewed   \n",
       "2060   Clash10  82985c26-ae8a-42b6-93c2-0de75d71eb90  Level 1  Resolved   \n",
       "4319   Clash10  185a6bdc-6aac-4c67-9fb5-3ecc66d7ce95  Level 1    Active   \n",
       "3593  Clash100  44c7867a-8975-4ee7-9543-a8215af957ea  Level 1       New   \n",
       "2150  Clash100  b58377a8-73a7-4617-b5e8-f540144f90b6  Level 1       New   \n",
       "2151  Clash101  27a21946-27b8-4e89-8aa5-1970c793f72b  Level 1       New   \n",
       "3594  Clash101  ec196899-fb0d-490c-b8f4-1a0295bd9d40  Level 1       New   \n",
       "2741  Clash101  1778fe7d-d5b6-42ef-a436-cd4abc052ff4  Level 1       New   \n",
       "\n",
       "      Distance GridIntersect  \n",
       "3405  0.000000        A(6)-6  \n",
       "3503 -0.164044           F-6  \n",
       "2650 -0.295276       E-7(-1)  \n",
       "2060 -0.164044           F-6  \n",
       "4319 -0.255905           C-7  \n",
       "3593 -0.009728       B-4(-1)  \n",
       "2150 -0.009728       B-4(-1)  \n",
       "2151 -0.009728           B-3  \n",
       "3594 -0.009728           B-3  \n",
       "2741 -0.038398       G-7(-1)  "
      ]
     },
     "execution_count": 133,
     "metadata": {},
     "output_type": "execute_result"
    }
   ],
   "source": [
    "# filter dfClashes with column \"Level\" = \"Level 1\"\n",
    "dfClashLevel1 = dfClashes[dfClashes[\"Level\"] == \"Level 1\"]\n",
    "print(\"Count Clash Level 1: \", len(dfClashLevel1))\n",
    "dfClashLevel1.head(10)"
   ]
  },
  {
   "cell_type": "code",
   "execution_count": 136,
   "metadata": {},
   "outputs": [
    {
     "name": "stdout",
     "output_type": "stream",
     "text": [
      "Number of Clash Resolved:  14\n"
     ]
    },
    {
     "data": {
      "text/html": [
       "<div>\n",
       "<style scoped>\n",
       "    .dataframe tbody tr th:only-of-type {\n",
       "        vertical-align: middle;\n",
       "    }\n",
       "\n",
       "    .dataframe tbody tr th {\n",
       "        vertical-align: top;\n",
       "    }\n",
       "\n",
       "    .dataframe thead th {\n",
       "        text-align: right;\n",
       "    }\n",
       "</style>\n",
       "<table border=\"1\" class=\"dataframe\">\n",
       "  <thead>\n",
       "    <tr style=\"text-align: right;\">\n",
       "      <th></th>\n",
       "      <th>Name</th>\n",
       "      <th>Guid</th>\n",
       "      <th>Level</th>\n",
       "      <th>Status</th>\n",
       "      <th>Distance</th>\n",
       "      <th>GridIntersect</th>\n",
       "    </tr>\n",
       "  </thead>\n",
       "  <tbody>\n",
       "    <tr>\n",
       "      <th>2060</th>\n",
       "      <td>Clash10</td>\n",
       "      <td>82985c26-ae8a-42b6-93c2-0de75d71eb90</td>\n",
       "      <td>Level 1</td>\n",
       "      <td>Resolved</td>\n",
       "      <td>-0.164044</td>\n",
       "      <td>F-6</td>\n",
       "    </tr>\n",
       "    <tr>\n",
       "      <th>2061</th>\n",
       "      <td>Clash11</td>\n",
       "      <td>3bf412b5-df34-45d7-9c2b-e2fd001b989e</td>\n",
       "      <td>Level 1</td>\n",
       "      <td>Resolved</td>\n",
       "      <td>-0.164044</td>\n",
       "      <td>F-6(1)</td>\n",
       "    </tr>\n",
       "    <tr>\n",
       "      <th>2751</th>\n",
       "      <td>Clash111</td>\n",
       "      <td>31ce58b7-447a-4e58-b198-71213b5c385a</td>\n",
       "      <td>Level 1</td>\n",
       "      <td>Resolved</td>\n",
       "      <td>-0.032808</td>\n",
       "      <td>C-1</td>\n",
       "    </tr>\n",
       "    <tr>\n",
       "      <th>2754</th>\n",
       "      <td>Clash114</td>\n",
       "      <td>6c4bce50-aea0-4a18-bf28-fb9e5d1605a7</td>\n",
       "      <td>Level 1</td>\n",
       "      <td>Resolved</td>\n",
       "      <td>-0.031159</td>\n",
       "      <td>G-7</td>\n",
       "    </tr>\n",
       "    <tr>\n",
       "      <th>2755</th>\n",
       "      <td>Clash115</td>\n",
       "      <td>23e2af03-6cb4-476f-aefb-eeb88749b953</td>\n",
       "      <td>Level 1</td>\n",
       "      <td>Resolved</td>\n",
       "      <td>-0.031159</td>\n",
       "      <td>G-5</td>\n",
       "    </tr>\n",
       "    <tr>\n",
       "      <th>2756</th>\n",
       "      <td>Clash116</td>\n",
       "      <td>61d1988c-234d-4381-8846-33d520293f8a</td>\n",
       "      <td>Level 1</td>\n",
       "      <td>Resolved</td>\n",
       "      <td>-0.027878</td>\n",
       "      <td>G-7</td>\n",
       "    </tr>\n",
       "    <tr>\n",
       "      <th>2757</th>\n",
       "      <td>Clash117</td>\n",
       "      <td>966abb3b-0a25-4d9c-a101-91c81f24bab1</td>\n",
       "      <td>Level 1</td>\n",
       "      <td>Resolved</td>\n",
       "      <td>-0.026168</td>\n",
       "      <td>B-5</td>\n",
       "    </tr>\n",
       "    <tr>\n",
       "      <th>2758</th>\n",
       "      <td>Clash118</td>\n",
       "      <td>e7b766a3-aa5a-4d12-b908-683adeacd995</td>\n",
       "      <td>Level 1</td>\n",
       "      <td>Resolved</td>\n",
       "      <td>-0.023761</td>\n",
       "      <td>C-4</td>\n",
       "    </tr>\n",
       "    <tr>\n",
       "      <th>2759</th>\n",
       "      <td>Clash119</td>\n",
       "      <td>af472624-567a-48c5-a6d1-8e7a873cf249</td>\n",
       "      <td>Level 1</td>\n",
       "      <td>Resolved</td>\n",
       "      <td>-0.023761</td>\n",
       "      <td>C-4</td>\n",
       "    </tr>\n",
       "    <tr>\n",
       "      <th>2063</th>\n",
       "      <td>Clash13</td>\n",
       "      <td>93afd68d-2be2-400b-be97-59b832256a50</td>\n",
       "      <td>Level 1</td>\n",
       "      <td>Resolved</td>\n",
       "      <td>-0.163930</td>\n",
       "      <td>A-4</td>\n",
       "    </tr>\n",
       "  </tbody>\n",
       "</table>\n",
       "</div>"
      ],
      "text/plain": [
       "          Name                                  Guid    Level    Status  \\\n",
       "2060   Clash10  82985c26-ae8a-42b6-93c2-0de75d71eb90  Level 1  Resolved   \n",
       "2061   Clash11  3bf412b5-df34-45d7-9c2b-e2fd001b989e  Level 1  Resolved   \n",
       "2751  Clash111  31ce58b7-447a-4e58-b198-71213b5c385a  Level 1  Resolved   \n",
       "2754  Clash114  6c4bce50-aea0-4a18-bf28-fb9e5d1605a7  Level 1  Resolved   \n",
       "2755  Clash115  23e2af03-6cb4-476f-aefb-eeb88749b953  Level 1  Resolved   \n",
       "2756  Clash116  61d1988c-234d-4381-8846-33d520293f8a  Level 1  Resolved   \n",
       "2757  Clash117  966abb3b-0a25-4d9c-a101-91c81f24bab1  Level 1  Resolved   \n",
       "2758  Clash118  e7b766a3-aa5a-4d12-b908-683adeacd995  Level 1  Resolved   \n",
       "2759  Clash119  af472624-567a-48c5-a6d1-8e7a873cf249  Level 1  Resolved   \n",
       "2063   Clash13  93afd68d-2be2-400b-be97-59b832256a50  Level 1  Resolved   \n",
       "\n",
       "      Distance GridIntersect  \n",
       "2060 -0.164044           F-6  \n",
       "2061 -0.164044        F-6(1)  \n",
       "2751 -0.032808           C-1  \n",
       "2754 -0.031159           G-7  \n",
       "2755 -0.031159           G-5  \n",
       "2756 -0.027878           G-7  \n",
       "2757 -0.026168           B-5  \n",
       "2758 -0.023761           C-4  \n",
       "2759 -0.023761           C-4  \n",
       "2063 -0.163930           A-4  "
      ]
     },
     "execution_count": 136,
     "metadata": {},
     "output_type": "execute_result"
    }
   ],
   "source": [
    "# check how many clashes \"Resolved\" In Level 01\n",
    "dfClashLevel1Resolved = dfClashLevel1[dfClashLevel1[\"Status\"] == \"Resolved\"]\n",
    "print(\"Number of Clash Resolved: \", len(dfClashLevel1Resolved))\n",
    "dfClashLevel1Resolved.head(10)"
   ]
  },
  {
   "cell_type": "code",
   "execution_count": 138,
   "metadata": {},
   "outputs": [
    {
     "data": {
      "image/png": "[encoded data removed]",
      "text/plain": [
       "<Figure size 720x360 with 1 Axes>"
      ]
     },
     "metadata": {},
     "output_type": "display_data"
    }
   ],
   "source": [
    "# Visualize the dfClashLevel1 by category column Status\n",
    "import matplotlib.pyplot as plt\n",
    "import numpy as np\n",
    "import seaborn as sns\n",
    "sns.set(style=\"whitegrid\")\n",
    "plt.figure(figsize=(10, 5))\n",
    "ax = sns.countplot(x=\"Status\", data=dfClashLevel1)\n",
    "ax.set_xticklabels(ax.get_xticklabels(), rotation=40, ha=\"right\")\n",
    "plt.tight_layout()\n",
    "plt.show()"
   ]
  }
 ],
 "metadata": {
  "kernelspec": {
   "display_name": "Python 3",
   "language": "python",
   "name": "python3"
  },
  "language_info": {
   "codemirror_mode": {
    "name": "ipython",
    "version": 3
   },
   "file_extension": ".py",
   "mimetype": "text/x-python",
   "name": "python",
   "nbconvert_exporter": "python",
   "pygments_lexer": "ipython3",
   "version": "3.9.6"
  },
  "orig_nbformat": 4,
  "vscode": {
   "interpreter": {
    "hash": "ef386886b7a74f875daad967525beda57fd8429e2e08f516f3512dc1af5cdfba"
   }
  }
 },
 "nbformat": 4,
 "nbformat_minor": 2
}
